{
 "cells": [
  {
   "cell_type": "code",
   "execution_count": 3,
   "id": "4dc8eb74",
   "metadata": {},
   "outputs": [],
   "source": [
    "import pandas as pd"
   ]
  },
  {
   "cell_type": "markdown",
   "id": "0eb550b4",
   "metadata": {},
   "source": [
    "## 1.CREATE\n",
    "Using a dictionary of multiple series to create a dataframe"
   ]
  },
  {
   "cell_type": "code",
   "execution_count": 5,
   "id": "2c75058d",
   "metadata": {},
   "outputs": [],
   "source": [
    "#Creating the dictionary\n",
    "empdict = {\n",
    "    \"EmpID\" : pd.Series([1,2,3,4,5,6]),\n",
    "    \"Name\" : pd.Series([\"Harsh\",\"Rajat\",\"Ekta\",\"Mayur\",\"Oorjit\",\"Sashank\"]),\n",
    "    \"EmailID\": pd.Series([\"harsh@gmail.com\",\"Rajat@gmail.com\",\"Ekta@gmail.com\",\"Mayur@gmail.com\",\"Oorjit@gmail.com\",\"Sashank@gmail.com\",]),\n",
    "    \"Age\": pd.Series([19,24,34,49,23,25])\n",
    "}"
   ]
  },
  {
   "cell_type": "code",
   "execution_count": 7,
   "id": "337e786c",
   "metadata": {},
   "outputs": [],
   "source": [
    "#Creating the DataFrame\n",
    "df = pd.DataFrame(empdict)"
   ]
  },
  {
   "cell_type": "markdown",
   "id": "7c96048d",
   "metadata": {},
   "source": [
    "## 2.READ\n",
    "### Note:\n",
    "#### 1.loc(): it is location by label\n",
    "#### 2.iloc(): it is location by integer index"
   ]
  },
  {
   "cell_type": "code",
   "execution_count": 9,
   "id": "7087de9a",
   "metadata": {},
   "outputs": [
    {
     "name": "stdout",
     "output_type": "stream",
     "text": [
      "   EmpID     Name            EmailID  Age\n",
      "0      1    Harsh    harsh@gmail.com   19\n",
      "1      2    Rajat    Rajat@gmail.com   24\n",
      "2      3     Ekta     Ekta@gmail.com   34\n",
      "3      4    Mayur    Mayur@gmail.com   49\n",
      "4      5   Oorjit   Oorjit@gmail.com   23\n",
      "5      6  Sashank  Sashank@gmail.com   25\n"
     ]
    }
   ],
   "source": [
    "print(df)"
   ]
  },
  {
   "cell_type": "code",
   "execution_count": 10,
   "id": "a7adc8b8",
   "metadata": {},
   "outputs": [
    {
     "data": {
      "text/html": [
       "<div>\n",
       "<style scoped>\n",
       "    .dataframe tbody tr th:only-of-type {\n",
       "        vertical-align: middle;\n",
       "    }\n",
       "\n",
       "    .dataframe tbody tr th {\n",
       "        vertical-align: top;\n",
       "    }\n",
       "\n",
       "    .dataframe thead th {\n",
       "        text-align: right;\n",
       "    }\n",
       "</style>\n",
       "<table border=\"1\" class=\"dataframe\">\n",
       "  <thead>\n",
       "    <tr style=\"text-align: right;\">\n",
       "      <th></th>\n",
       "      <th>EmpID</th>\n",
       "      <th>Name</th>\n",
       "      <th>EmailID</th>\n",
       "      <th>Age</th>\n",
       "    </tr>\n",
       "  </thead>\n",
       "  <tbody>\n",
       "    <tr>\n",
       "      <th>0</th>\n",
       "      <td>1</td>\n",
       "      <td>Harsh</td>\n",
       "      <td>harsh@gmail.com</td>\n",
       "      <td>19</td>\n",
       "    </tr>\n",
       "    <tr>\n",
       "      <th>1</th>\n",
       "      <td>2</td>\n",
       "      <td>Rajat</td>\n",
       "      <td>Rajat@gmail.com</td>\n",
       "      <td>24</td>\n",
       "    </tr>\n",
       "    <tr>\n",
       "      <th>2</th>\n",
       "      <td>3</td>\n",
       "      <td>Ekta</td>\n",
       "      <td>Ekta@gmail.com</td>\n",
       "      <td>34</td>\n",
       "    </tr>\n",
       "    <tr>\n",
       "      <th>3</th>\n",
       "      <td>4</td>\n",
       "      <td>Mayur</td>\n",
       "      <td>Mayur@gmail.com</td>\n",
       "      <td>49</td>\n",
       "    </tr>\n",
       "    <tr>\n",
       "      <th>4</th>\n",
       "      <td>5</td>\n",
       "      <td>Oorjit</td>\n",
       "      <td>Oorjit@gmail.com</td>\n",
       "      <td>23</td>\n",
       "    </tr>\n",
       "    <tr>\n",
       "      <th>5</th>\n",
       "      <td>6</td>\n",
       "      <td>Sashank</td>\n",
       "      <td>Sashank@gmail.com</td>\n",
       "      <td>25</td>\n",
       "    </tr>\n",
       "  </tbody>\n",
       "</table>\n",
       "</div>"
      ],
      "text/plain": [
       "   EmpID     Name            EmailID  Age\n",
       "0      1    Harsh    harsh@gmail.com   19\n",
       "1      2    Rajat    Rajat@gmail.com   24\n",
       "2      3     Ekta     Ekta@gmail.com   34\n",
       "3      4    Mayur    Mayur@gmail.com   49\n",
       "4      5   Oorjit   Oorjit@gmail.com   23\n",
       "5      6  Sashank  Sashank@gmail.com   25"
      ]
     },
     "execution_count": 10,
     "metadata": {},
     "output_type": "execute_result"
    }
   ],
   "source": [
    "df"
   ]
  },
  {
   "cell_type": "code",
   "execution_count": 29,
   "id": "d45b690f",
   "metadata": {},
   "outputs": [
    {
     "data": {
      "text/html": [
       "<div>\n",
       "<style scoped>\n",
       "    .dataframe tbody tr th:only-of-type {\n",
       "        vertical-align: middle;\n",
       "    }\n",
       "\n",
       "    .dataframe tbody tr th {\n",
       "        vertical-align: top;\n",
       "    }\n",
       "\n",
       "    .dataframe thead th {\n",
       "        text-align: right;\n",
       "    }\n",
       "</style>\n",
       "<table border=\"1\" class=\"dataframe\">\n",
       "  <thead>\n",
       "    <tr style=\"text-align: right;\">\n",
       "      <th></th>\n",
       "      <th>EmpID</th>\n",
       "      <th>EmpNo</th>\n",
       "      <th>Name</th>\n",
       "      <th>EmailID</th>\n",
       "      <th>Age</th>\n",
       "      <th>Experience</th>\n",
       "    </tr>\n",
       "  </thead>\n",
       "  <tbody>\n",
       "    <tr>\n",
       "      <th>0</th>\n",
       "      <td>1</td>\n",
       "      <td>0</td>\n",
       "      <td>Harsh</td>\n",
       "      <td>harsh@gmail.com</td>\n",
       "      <td>19</td>\n",
       "      <td>1</td>\n",
       "    </tr>\n",
       "    <tr>\n",
       "      <th>2</th>\n",
       "      <td>3</td>\n",
       "      <td>2</td>\n",
       "      <td>Ekta</td>\n",
       "      <td>Ekta@gmail.com</td>\n",
       "      <td>34</td>\n",
       "      <td>10</td>\n",
       "    </tr>\n",
       "  </tbody>\n",
       "</table>\n",
       "</div>"
      ],
      "text/plain": [
       "   EmpID  EmpNo   Name          EmailID  Age  Experience\n",
       "0      1      0  Harsh  harsh@gmail.com   19           1\n",
       "2      3      2   Ekta   Ekta@gmail.com   34          10"
      ]
     },
     "execution_count": 29,
     "metadata": {},
     "output_type": "execute_result"
    }
   ],
   "source": [
    "df.loc[[0,2]]"
   ]
  },
  {
   "cell_type": "code",
   "execution_count": 30,
   "id": "35fb2a05",
   "metadata": {},
   "outputs": [
    {
     "data": {
      "text/html": [
       "<div>\n",
       "<style scoped>\n",
       "    .dataframe tbody tr th:only-of-type {\n",
       "        vertical-align: middle;\n",
       "    }\n",
       "\n",
       "    .dataframe tbody tr th {\n",
       "        vertical-align: top;\n",
       "    }\n",
       "\n",
       "    .dataframe thead th {\n",
       "        text-align: right;\n",
       "    }\n",
       "</style>\n",
       "<table border=\"1\" class=\"dataframe\">\n",
       "  <thead>\n",
       "    <tr style=\"text-align: right;\">\n",
       "      <th></th>\n",
       "      <th>EmpID</th>\n",
       "      <th>EmpNo</th>\n",
       "      <th>Name</th>\n",
       "      <th>EmailID</th>\n",
       "      <th>Age</th>\n",
       "      <th>Experience</th>\n",
       "    </tr>\n",
       "  </thead>\n",
       "  <tbody>\n",
       "    <tr>\n",
       "      <th>0</th>\n",
       "      <td>1</td>\n",
       "      <td>0</td>\n",
       "      <td>Harsh</td>\n",
       "      <td>harsh@gmail.com</td>\n",
       "      <td>19</td>\n",
       "      <td>1</td>\n",
       "    </tr>\n",
       "    <tr>\n",
       "      <th>1</th>\n",
       "      <td>2</td>\n",
       "      <td>1</td>\n",
       "      <td>Rajat</td>\n",
       "      <td>Rajat@gmail.com</td>\n",
       "      <td>24</td>\n",
       "      <td>3</td>\n",
       "    </tr>\n",
       "    <tr>\n",
       "      <th>2</th>\n",
       "      <td>3</td>\n",
       "      <td>2</td>\n",
       "      <td>Ekta</td>\n",
       "      <td>Ekta@gmail.com</td>\n",
       "      <td>34</td>\n",
       "      <td>10</td>\n",
       "    </tr>\n",
       "  </tbody>\n",
       "</table>\n",
       "</div>"
      ],
      "text/plain": [
       "   EmpID  EmpNo   Name          EmailID  Age  Experience\n",
       "0      1      0  Harsh  harsh@gmail.com   19           1\n",
       "1      2      1  Rajat  Rajat@gmail.com   24           3\n",
       "2      3      2   Ekta   Ekta@gmail.com   34          10"
      ]
     },
     "execution_count": 30,
     "metadata": {},
     "output_type": "execute_result"
    }
   ],
   "source": [
    "df.loc[0:2]"
   ]
  },
  {
   "cell_type": "code",
   "execution_count": 32,
   "id": "911605fc",
   "metadata": {},
   "outputs": [
    {
     "data": {
      "text/plain": [
       "'Harsh'"
      ]
     },
     "execution_count": 32,
     "metadata": {},
     "output_type": "execute_result"
    }
   ],
   "source": [
    "df.iloc[0,2]"
   ]
  },
  {
   "cell_type": "code",
   "execution_count": 33,
   "id": "b41deef9",
   "metadata": {},
   "outputs": [
    {
     "data": {
      "text/plain": [
       "'Rajat@gmail.com'"
      ]
     },
     "execution_count": 33,
     "metadata": {},
     "output_type": "execute_result"
    }
   ],
   "source": [
    "df.iloc[1,3]"
   ]
  },
  {
   "cell_type": "markdown",
   "id": "3718325d",
   "metadata": {},
   "source": [
    "# 3.UPDATE\n",
    "### Note:\n",
    "#### 1. insert(): this function only adds columns, it cannot be used to add rows to the df.\n",
    "#### 2. loc is used for inserting a row since it is location by label, hence a new row can be inserted using this\n",
    "#### 3. iloc is only used for modifying/accessing elements, it cannot add an element to a position in a new row or column."
   ]
  },
  {
   "cell_type": "code",
   "execution_count": 73,
   "id": "c843b34b",
   "metadata": {},
   "outputs": [],
   "source": [
    "exp = [1,3,10,20,2,4]\n",
    "df.insert(4,\"Experience\", exp)"
   ]
  },
  {
   "cell_type": "code",
   "execution_count": 74,
   "id": "539c306b",
   "metadata": {},
   "outputs": [
    {
     "data": {
      "text/html": [
       "<div>\n",
       "<style scoped>\n",
       "    .dataframe tbody tr th:only-of-type {\n",
       "        vertical-align: middle;\n",
       "    }\n",
       "\n",
       "    .dataframe tbody tr th {\n",
       "        vertical-align: top;\n",
       "    }\n",
       "\n",
       "    .dataframe thead th {\n",
       "        text-align: right;\n",
       "    }\n",
       "</style>\n",
       "<table border=\"1\" class=\"dataframe\">\n",
       "  <thead>\n",
       "    <tr style=\"text-align: right;\">\n",
       "      <th></th>\n",
       "      <th>EmpID</th>\n",
       "      <th>EmpNo</th>\n",
       "      <th>Name</th>\n",
       "      <th>EmailID</th>\n",
       "      <th>Experience</th>\n",
       "      <th>Age</th>\n",
       "    </tr>\n",
       "  </thead>\n",
       "  <tbody>\n",
       "    <tr>\n",
       "      <th>a</th>\n",
       "      <td>1</td>\n",
       "      <td>0</td>\n",
       "      <td>Harsh</td>\n",
       "      <td>harsh@gmail.com</td>\n",
       "      <td>1</td>\n",
       "      <td>19</td>\n",
       "    </tr>\n",
       "    <tr>\n",
       "      <th>b</th>\n",
       "      <td>2</td>\n",
       "      <td>1</td>\n",
       "      <td>Rajat</td>\n",
       "      <td>Rajat@gmail.com</td>\n",
       "      <td>3</td>\n",
       "      <td>24</td>\n",
       "    </tr>\n",
       "    <tr>\n",
       "      <th>c</th>\n",
       "      <td>3</td>\n",
       "      <td>2</td>\n",
       "      <td>Ekta</td>\n",
       "      <td>Ekta@gmail.com</td>\n",
       "      <td>10</td>\n",
       "      <td>34</td>\n",
       "    </tr>\n",
       "    <tr>\n",
       "      <th>d</th>\n",
       "      <td>4</td>\n",
       "      <td>3</td>\n",
       "      <td>Mayur</td>\n",
       "      <td>Mayur@gmail.com</td>\n",
       "      <td>20</td>\n",
       "      <td>49</td>\n",
       "    </tr>\n",
       "    <tr>\n",
       "      <th>f</th>\n",
       "      <td>6</td>\n",
       "      <td>5</td>\n",
       "      <td>Sashank</td>\n",
       "      <td>Sashank@gmail.com</td>\n",
       "      <td>2</td>\n",
       "      <td>5</td>\n",
       "    </tr>\n",
       "    <tr>\n",
       "      <th>g</th>\n",
       "      <td>7</td>\n",
       "      <td>6</td>\n",
       "      <td>Nitin</td>\n",
       "      <td>nitin@gmail.com</td>\n",
       "      <td>4</td>\n",
       "      <td>50</td>\n",
       "    </tr>\n",
       "  </tbody>\n",
       "</table>\n",
       "</div>"
      ],
      "text/plain": [
       "   EmpID  EmpNo     Name            EmailID  Experience  Age\n",
       "a      1      0    Harsh    harsh@gmail.com           1   19\n",
       "b      2      1    Rajat    Rajat@gmail.com           3   24\n",
       "c      3      2     Ekta     Ekta@gmail.com          10   34\n",
       "d      4      3    Mayur    Mayur@gmail.com          20   49\n",
       "f      6      5  Sashank  Sashank@gmail.com           2    5\n",
       "g      7      6    Nitin    nitin@gmail.com           4   50"
      ]
     },
     "execution_count": 74,
     "metadata": {},
     "output_type": "execute_result"
    }
   ],
   "source": [
    "df"
   ]
  },
  {
   "cell_type": "code",
   "execution_count": 76,
   "id": "4f146a24",
   "metadata": {},
   "outputs": [],
   "source": [
    "new_row = [7,\"Nitin\",\"nitin@gmail.com\",50,20]\n",
    "df.loc[len(df)] = new_row"
   ]
  },
  {
   "cell_type": "code",
   "execution_count": 77,
   "id": "d1134f39",
   "metadata": {
    "scrolled": true
   },
   "outputs": [],
   "source": [
    "df.insert(1,\"EmpNo\",0) \n",
    "df[\"EmpNo\"] = df[\"EmpID\"]-1"
   ]
  },
  {
   "cell_type": "markdown",
   "id": "d56d2977",
   "metadata": {},
   "source": [
    "#### Added Columns EmpNo and Experience"
   ]
  },
  {
   "cell_type": "code",
   "execution_count": 78,
   "id": "d6e2906f",
   "metadata": {},
   "outputs": [
    {
     "data": {
      "text/html": [
       "<div>\n",
       "<style scoped>\n",
       "    .dataframe tbody tr th:only-of-type {\n",
       "        vertical-align: middle;\n",
       "    }\n",
       "\n",
       "    .dataframe tbody tr th {\n",
       "        vertical-align: top;\n",
       "    }\n",
       "\n",
       "    .dataframe thead th {\n",
       "        text-align: right;\n",
       "    }\n",
       "</style>\n",
       "<table border=\"1\" class=\"dataframe\">\n",
       "  <thead>\n",
       "    <tr style=\"text-align: right;\">\n",
       "      <th></th>\n",
       "      <th>EmpID</th>\n",
       "      <th>EmpNo</th>\n",
       "      <th>Name</th>\n",
       "      <th>EmailID</th>\n",
       "      <th>Experience</th>\n",
       "      <th>Age</th>\n",
       "    </tr>\n",
       "  </thead>\n",
       "  <tbody>\n",
       "    <tr>\n",
       "      <th>a</th>\n",
       "      <td>1</td>\n",
       "      <td>0</td>\n",
       "      <td>Harsh</td>\n",
       "      <td>harsh@gmail.com</td>\n",
       "      <td>1</td>\n",
       "      <td>19</td>\n",
       "    </tr>\n",
       "    <tr>\n",
       "      <th>b</th>\n",
       "      <td>2</td>\n",
       "      <td>1</td>\n",
       "      <td>Rajat</td>\n",
       "      <td>Rajat@gmail.com</td>\n",
       "      <td>3</td>\n",
       "      <td>24</td>\n",
       "    </tr>\n",
       "    <tr>\n",
       "      <th>c</th>\n",
       "      <td>3</td>\n",
       "      <td>2</td>\n",
       "      <td>Ekta</td>\n",
       "      <td>Ekta@gmail.com</td>\n",
       "      <td>10</td>\n",
       "      <td>34</td>\n",
       "    </tr>\n",
       "    <tr>\n",
       "      <th>d</th>\n",
       "      <td>4</td>\n",
       "      <td>3</td>\n",
       "      <td>Mayur</td>\n",
       "      <td>Mayur@gmail.com</td>\n",
       "      <td>20</td>\n",
       "      <td>49</td>\n",
       "    </tr>\n",
       "    <tr>\n",
       "      <th>f</th>\n",
       "      <td>6</td>\n",
       "      <td>5</td>\n",
       "      <td>Sashank</td>\n",
       "      <td>Sashank@gmail.com</td>\n",
       "      <td>2</td>\n",
       "      <td>5</td>\n",
       "    </tr>\n",
       "    <tr>\n",
       "      <th>g</th>\n",
       "      <td>7</td>\n",
       "      <td>6</td>\n",
       "      <td>Nitin</td>\n",
       "      <td>nitin@gmail.com</td>\n",
       "      <td>4</td>\n",
       "      <td>50</td>\n",
       "    </tr>\n",
       "  </tbody>\n",
       "</table>\n",
       "</div>"
      ],
      "text/plain": [
       "   EmpID  EmpNo     Name            EmailID  Experience  Age\n",
       "a      1      0    Harsh    harsh@gmail.com           1   19\n",
       "b      2      1    Rajat    Rajat@gmail.com           3   24\n",
       "c      3      2     Ekta     Ekta@gmail.com          10   34\n",
       "d      4      3    Mayur    Mayur@gmail.com          20   49\n",
       "f      6      5  Sashank  Sashank@gmail.com           2    5\n",
       "g      7      6    Nitin    nitin@gmail.com           4   50"
      ]
     },
     "execution_count": 78,
     "metadata": {},
     "output_type": "execute_result"
    }
   ],
   "source": [
    "df"
   ]
  },
  {
   "cell_type": "markdown",
   "id": "e8ed5e6e",
   "metadata": {},
   "source": [
    "## 4.DELETE"
   ]
  },
  {
   "cell_type": "markdown",
   "id": "6e063178",
   "metadata": {},
   "source": [
    "### Note:\n",
    "#### 1.An element at a particular position in the dataframe cannot be deleted, value can be marked Nan via numpy. It can be deleted in series by using drop though.\n",
    "#### 2.Rows and Columns can be deleted by using drop, axis=0 is for rows and axis=1 is for columns. \n",
    "#### 3. del and .pop() functions are used only for removing columns from the dataframe."
   ]
  },
  {
   "cell_type": "code",
   "execution_count": 79,
   "id": "0025dd1f",
   "metadata": {},
   "outputs": [],
   "source": [
    "EmpNo = df.pop(\"EmpNo\")"
   ]
  },
  {
   "cell_type": "code",
   "execution_count": 80,
   "id": "82f80caf",
   "metadata": {},
   "outputs": [
    {
     "data": {
      "text/plain": [
       "a    0\n",
       "b    1\n",
       "c    2\n",
       "d    3\n",
       "f    5\n",
       "g    6\n",
       "Name: EmpNo, dtype: int64"
      ]
     },
     "execution_count": 80,
     "metadata": {},
     "output_type": "execute_result"
    }
   ],
   "source": [
    "EmpNo"
   ]
  },
  {
   "cell_type": "code",
   "execution_count": 81,
   "id": "24d4aadd",
   "metadata": {},
   "outputs": [
    {
     "data": {
      "text/html": [
       "<div>\n",
       "<style scoped>\n",
       "    .dataframe tbody tr th:only-of-type {\n",
       "        vertical-align: middle;\n",
       "    }\n",
       "\n",
       "    .dataframe tbody tr th {\n",
       "        vertical-align: top;\n",
       "    }\n",
       "\n",
       "    .dataframe thead th {\n",
       "        text-align: right;\n",
       "    }\n",
       "</style>\n",
       "<table border=\"1\" class=\"dataframe\">\n",
       "  <thead>\n",
       "    <tr style=\"text-align: right;\">\n",
       "      <th></th>\n",
       "      <th>EmpID</th>\n",
       "      <th>Name</th>\n",
       "      <th>EmailID</th>\n",
       "      <th>Experience</th>\n",
       "      <th>Age</th>\n",
       "    </tr>\n",
       "  </thead>\n",
       "  <tbody>\n",
       "    <tr>\n",
       "      <th>a</th>\n",
       "      <td>1</td>\n",
       "      <td>Harsh</td>\n",
       "      <td>harsh@gmail.com</td>\n",
       "      <td>1</td>\n",
       "      <td>19</td>\n",
       "    </tr>\n",
       "    <tr>\n",
       "      <th>b</th>\n",
       "      <td>2</td>\n",
       "      <td>Rajat</td>\n",
       "      <td>Rajat@gmail.com</td>\n",
       "      <td>3</td>\n",
       "      <td>24</td>\n",
       "    </tr>\n",
       "    <tr>\n",
       "      <th>c</th>\n",
       "      <td>3</td>\n",
       "      <td>Ekta</td>\n",
       "      <td>Ekta@gmail.com</td>\n",
       "      <td>10</td>\n",
       "      <td>34</td>\n",
       "    </tr>\n",
       "    <tr>\n",
       "      <th>d</th>\n",
       "      <td>4</td>\n",
       "      <td>Mayur</td>\n",
       "      <td>Mayur@gmail.com</td>\n",
       "      <td>20</td>\n",
       "      <td>49</td>\n",
       "    </tr>\n",
       "    <tr>\n",
       "      <th>f</th>\n",
       "      <td>6</td>\n",
       "      <td>Sashank</td>\n",
       "      <td>Sashank@gmail.com</td>\n",
       "      <td>2</td>\n",
       "      <td>5</td>\n",
       "    </tr>\n",
       "    <tr>\n",
       "      <th>g</th>\n",
       "      <td>7</td>\n",
       "      <td>Nitin</td>\n",
       "      <td>nitin@gmail.com</td>\n",
       "      <td>4</td>\n",
       "      <td>50</td>\n",
       "    </tr>\n",
       "  </tbody>\n",
       "</table>\n",
       "</div>"
      ],
      "text/plain": [
       "   EmpID     Name            EmailID  Experience  Age\n",
       "a      1    Harsh    harsh@gmail.com           1   19\n",
       "b      2    Rajat    Rajat@gmail.com           3   24\n",
       "c      3     Ekta     Ekta@gmail.com          10   34\n",
       "d      4    Mayur    Mayur@gmail.com          20   49\n",
       "f      6  Sashank  Sashank@gmail.com           2    5\n",
       "g      7    Nitin    nitin@gmail.com           4   50"
      ]
     },
     "execution_count": 81,
     "metadata": {},
     "output_type": "execute_result"
    }
   ],
   "source": [
    "df"
   ]
  },
  {
   "cell_type": "code",
   "execution_count": 82,
   "id": "9ed58a6a",
   "metadata": {},
   "outputs": [],
   "source": [
    "del df[\"Experience\"]"
   ]
  },
  {
   "cell_type": "code",
   "execution_count": 83,
   "id": "bf9c75d6",
   "metadata": {},
   "outputs": [
    {
     "data": {
      "text/html": [
       "<div>\n",
       "<style scoped>\n",
       "    .dataframe tbody tr th:only-of-type {\n",
       "        vertical-align: middle;\n",
       "    }\n",
       "\n",
       "    .dataframe tbody tr th {\n",
       "        vertical-align: top;\n",
       "    }\n",
       "\n",
       "    .dataframe thead th {\n",
       "        text-align: right;\n",
       "    }\n",
       "</style>\n",
       "<table border=\"1\" class=\"dataframe\">\n",
       "  <thead>\n",
       "    <tr style=\"text-align: right;\">\n",
       "      <th></th>\n",
       "      <th>EmpID</th>\n",
       "      <th>Name</th>\n",
       "      <th>EmailID</th>\n",
       "      <th>Age</th>\n",
       "    </tr>\n",
       "  </thead>\n",
       "  <tbody>\n",
       "    <tr>\n",
       "      <th>a</th>\n",
       "      <td>1</td>\n",
       "      <td>Harsh</td>\n",
       "      <td>harsh@gmail.com</td>\n",
       "      <td>19</td>\n",
       "    </tr>\n",
       "    <tr>\n",
       "      <th>b</th>\n",
       "      <td>2</td>\n",
       "      <td>Rajat</td>\n",
       "      <td>Rajat@gmail.com</td>\n",
       "      <td>24</td>\n",
       "    </tr>\n",
       "    <tr>\n",
       "      <th>c</th>\n",
       "      <td>3</td>\n",
       "      <td>Ekta</td>\n",
       "      <td>Ekta@gmail.com</td>\n",
       "      <td>34</td>\n",
       "    </tr>\n",
       "    <tr>\n",
       "      <th>d</th>\n",
       "      <td>4</td>\n",
       "      <td>Mayur</td>\n",
       "      <td>Mayur@gmail.com</td>\n",
       "      <td>49</td>\n",
       "    </tr>\n",
       "    <tr>\n",
       "      <th>f</th>\n",
       "      <td>6</td>\n",
       "      <td>Sashank</td>\n",
       "      <td>Sashank@gmail.com</td>\n",
       "      <td>5</td>\n",
       "    </tr>\n",
       "    <tr>\n",
       "      <th>g</th>\n",
       "      <td>7</td>\n",
       "      <td>Nitin</td>\n",
       "      <td>nitin@gmail.com</td>\n",
       "      <td>50</td>\n",
       "    </tr>\n",
       "  </tbody>\n",
       "</table>\n",
       "</div>"
      ],
      "text/plain": [
       "   EmpID     Name            EmailID  Age\n",
       "a      1    Harsh    harsh@gmail.com   19\n",
       "b      2    Rajat    Rajat@gmail.com   24\n",
       "c      3     Ekta     Ekta@gmail.com   34\n",
       "d      4    Mayur    Mayur@gmail.com   49\n",
       "f      6  Sashank  Sashank@gmail.com    5\n",
       "g      7    Nitin    nitin@gmail.com   50"
      ]
     },
     "execution_count": 83,
     "metadata": {},
     "output_type": "execute_result"
    }
   ],
   "source": [
    "df"
   ]
  },
  {
   "cell_type": "code",
   "execution_count": 85,
   "id": "0f212900",
   "metadata": {},
   "outputs": [],
   "source": [
    "x = df.iloc[5,3]"
   ]
  },
  {
   "cell_type": "code",
   "execution_count": 86,
   "id": "e197f67b",
   "metadata": {},
   "outputs": [
    {
     "data": {
      "text/plain": [
       "np.int64(50)"
      ]
     },
     "execution_count": 86,
     "metadata": {},
     "output_type": "execute_result"
    }
   ],
   "source": [
    "x"
   ]
  },
  {
   "cell_type": "code",
   "execution_count": 88,
   "id": "9d39a16a",
   "metadata": {},
   "outputs": [],
   "source": [
    "df.index = [\"a\",\"b\",\"c\",\"d\",\"e\",\"f\"]"
   ]
  },
  {
   "cell_type": "code",
   "execution_count": 89,
   "id": "cb4eed28",
   "metadata": {
    "scrolled": true
   },
   "outputs": [
    {
     "data": {
      "text/html": [
       "<div>\n",
       "<style scoped>\n",
       "    .dataframe tbody tr th:only-of-type {\n",
       "        vertical-align: middle;\n",
       "    }\n",
       "\n",
       "    .dataframe tbody tr th {\n",
       "        vertical-align: top;\n",
       "    }\n",
       "\n",
       "    .dataframe thead th {\n",
       "        text-align: right;\n",
       "    }\n",
       "</style>\n",
       "<table border=\"1\" class=\"dataframe\">\n",
       "  <thead>\n",
       "    <tr style=\"text-align: right;\">\n",
       "      <th></th>\n",
       "      <th>EmpID</th>\n",
       "      <th>Name</th>\n",
       "      <th>EmailID</th>\n",
       "      <th>Age</th>\n",
       "    </tr>\n",
       "  </thead>\n",
       "  <tbody>\n",
       "    <tr>\n",
       "      <th>a</th>\n",
       "      <td>1</td>\n",
       "      <td>Harsh</td>\n",
       "      <td>harsh@gmail.com</td>\n",
       "      <td>19</td>\n",
       "    </tr>\n",
       "    <tr>\n",
       "      <th>b</th>\n",
       "      <td>2</td>\n",
       "      <td>Rajat</td>\n",
       "      <td>Rajat@gmail.com</td>\n",
       "      <td>24</td>\n",
       "    </tr>\n",
       "    <tr>\n",
       "      <th>c</th>\n",
       "      <td>3</td>\n",
       "      <td>Ekta</td>\n",
       "      <td>Ekta@gmail.com</td>\n",
       "      <td>34</td>\n",
       "    </tr>\n",
       "    <tr>\n",
       "      <th>d</th>\n",
       "      <td>4</td>\n",
       "      <td>Mayur</td>\n",
       "      <td>Mayur@gmail.com</td>\n",
       "      <td>49</td>\n",
       "    </tr>\n",
       "    <tr>\n",
       "      <th>e</th>\n",
       "      <td>6</td>\n",
       "      <td>Sashank</td>\n",
       "      <td>Sashank@gmail.com</td>\n",
       "      <td>5</td>\n",
       "    </tr>\n",
       "    <tr>\n",
       "      <th>f</th>\n",
       "      <td>7</td>\n",
       "      <td>Nitin</td>\n",
       "      <td>nitin@gmail.com</td>\n",
       "      <td>50</td>\n",
       "    </tr>\n",
       "  </tbody>\n",
       "</table>\n",
       "</div>"
      ],
      "text/plain": [
       "   EmpID     Name            EmailID  Age\n",
       "a      1    Harsh    harsh@gmail.com   19\n",
       "b      2    Rajat    Rajat@gmail.com   24\n",
       "c      3     Ekta     Ekta@gmail.com   34\n",
       "d      4    Mayur    Mayur@gmail.com   49\n",
       "e      6  Sashank  Sashank@gmail.com    5\n",
       "f      7    Nitin    nitin@gmail.com   50"
      ]
     },
     "execution_count": 89,
     "metadata": {},
     "output_type": "execute_result"
    }
   ],
   "source": [
    "df"
   ]
  },
  {
   "cell_type": "code",
   "execution_count": 90,
   "id": "973cd9da",
   "metadata": {},
   "outputs": [],
   "source": [
    "df.drop(\"e\",inplace = True)"
   ]
  },
  {
   "cell_type": "code",
   "execution_count": 91,
   "id": "20cc6093",
   "metadata": {},
   "outputs": [
    {
     "data": {
      "text/html": [
       "<div>\n",
       "<style scoped>\n",
       "    .dataframe tbody tr th:only-of-type {\n",
       "        vertical-align: middle;\n",
       "    }\n",
       "\n",
       "    .dataframe tbody tr th {\n",
       "        vertical-align: top;\n",
       "    }\n",
       "\n",
       "    .dataframe thead th {\n",
       "        text-align: right;\n",
       "    }\n",
       "</style>\n",
       "<table border=\"1\" class=\"dataframe\">\n",
       "  <thead>\n",
       "    <tr style=\"text-align: right;\">\n",
       "      <th></th>\n",
       "      <th>EmpID</th>\n",
       "      <th>Name</th>\n",
       "      <th>EmailID</th>\n",
       "      <th>Age</th>\n",
       "    </tr>\n",
       "  </thead>\n",
       "  <tbody>\n",
       "    <tr>\n",
       "      <th>a</th>\n",
       "      <td>1</td>\n",
       "      <td>Harsh</td>\n",
       "      <td>harsh@gmail.com</td>\n",
       "      <td>19</td>\n",
       "    </tr>\n",
       "    <tr>\n",
       "      <th>b</th>\n",
       "      <td>2</td>\n",
       "      <td>Rajat</td>\n",
       "      <td>Rajat@gmail.com</td>\n",
       "      <td>24</td>\n",
       "    </tr>\n",
       "    <tr>\n",
       "      <th>c</th>\n",
       "      <td>3</td>\n",
       "      <td>Ekta</td>\n",
       "      <td>Ekta@gmail.com</td>\n",
       "      <td>34</td>\n",
       "    </tr>\n",
       "    <tr>\n",
       "      <th>d</th>\n",
       "      <td>4</td>\n",
       "      <td>Mayur</td>\n",
       "      <td>Mayur@gmail.com</td>\n",
       "      <td>49</td>\n",
       "    </tr>\n",
       "    <tr>\n",
       "      <th>f</th>\n",
       "      <td>7</td>\n",
       "      <td>Nitin</td>\n",
       "      <td>nitin@gmail.com</td>\n",
       "      <td>50</td>\n",
       "    </tr>\n",
       "  </tbody>\n",
       "</table>\n",
       "</div>"
      ],
      "text/plain": [
       "   EmpID   Name          EmailID  Age\n",
       "a      1  Harsh  harsh@gmail.com   19\n",
       "b      2  Rajat  Rajat@gmail.com   24\n",
       "c      3   Ekta   Ekta@gmail.com   34\n",
       "d      4  Mayur  Mayur@gmail.com   49\n",
       "f      7  Nitin  nitin@gmail.com   50"
      ]
     },
     "execution_count": 91,
     "metadata": {},
     "output_type": "execute_result"
    }
   ],
   "source": [
    "df"
   ]
  },
  {
   "cell_type": "code",
   "execution_count": null,
   "id": "70a14234",
   "metadata": {},
   "outputs": [],
   "source": []
  }
 ],
 "metadata": {
  "kernelspec": {
   "display_name": "Venv",
   "language": "python",
   "name": "venv"
  },
  "language_info": {
   "codemirror_mode": {
    "name": "ipython",
    "version": 3
   },
   "file_extension": ".py",
   "mimetype": "text/x-python",
   "name": "python",
   "nbconvert_exporter": "python",
   "pygments_lexer": "ipython3",
   "version": "3.11.9"
  }
 },
 "nbformat": 4,
 "nbformat_minor": 5
}
